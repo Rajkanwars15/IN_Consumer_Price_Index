{
 "cells": [
  {
   "cell_type": "code",
   "execution_count": 1,
   "metadata": {
    "collapsed": true,
    "ExecuteTime": {
     "end_time": "2023-08-31T19:01:24.011707Z",
     "start_time": "2023-08-31T19:01:23.757442Z"
    }
   },
   "outputs": [],
   "source": [
    "import pandas as pd"
   ]
  },
  {
   "cell_type": "code",
   "execution_count": 2,
   "outputs": [],
   "source": [
    "df = pd.read_csv('datafile.csv')"
   ],
   "metadata": {
    "collapsed": false,
    "ExecuteTime": {
     "end_time": "2023-08-31T19:01:47.360049Z",
     "start_time": "2023-08-31T19:01:47.347078Z"
    }
   }
  },
  {
   "cell_type": "code",
   "execution_count": 3,
   "outputs": [
    {
     "data": {
      "text/plain": "        Sector  Year     Month  Cereals and products  Meat and fish    Egg  \\\n0        Rural  2013   January                 107.5          106.3  108.1   \n1        Urban  2013   January                 110.5          109.1  113.0   \n2  Rural+Urban  2013   January                 108.4          107.3  110.0   \n3        Rural  2013  February                 109.2          108.7  110.2   \n4        Urban  2013  February                 112.9          112.9  116.9   \n\n   Milk and products  Oils and fats  Fruits  Vegetables  ...  Housing  \\\n0              104.9          106.1   103.9       101.9  ...      NaN   \n1              103.6          103.4   102.3       102.9  ...    100.3   \n2              104.4          105.1   103.2       102.2  ...    100.3   \n3              105.4          106.7   104.0       102.4  ...      NaN   \n4              104.0          103.5   103.1       104.9  ...    100.4   \n\n   Fuel and light  Household goods and services  Health  \\\n0           105.5                         104.8   104.0   \n1           105.4                         104.8   104.1   \n2           105.5                         104.8   104.0   \n3           106.2                         105.2   104.4   \n4           105.7                         105.2   104.7   \n\n   Transport and communication  Recreation and amusement  Education  \\\n0                        103.3                     103.4      103.8   \n1                        103.2                     102.9      103.5   \n2                        103.2                     103.1      103.6   \n3                        103.9                     104.0      104.1   \n4                        104.4                     103.3      103.7   \n\n   Personal care and effects  Miscellaneous  General index  \n0                      104.7          104.0          105.1  \n1                      104.3          103.7          104.0  \n2                      104.5          103.9          104.6  \n3                      104.6          104.4          105.8  \n4                      104.3          104.3          104.7  \n\n[5 rows x 30 columns]",
      "text/html": "<div>\n<style scoped>\n    .dataframe tbody tr th:only-of-type {\n        vertical-align: middle;\n    }\n\n    .dataframe tbody tr th {\n        vertical-align: top;\n    }\n\n    .dataframe thead th {\n        text-align: right;\n    }\n</style>\n<table border=\"1\" class=\"dataframe\">\n  <thead>\n    <tr style=\"text-align: right;\">\n      <th></th>\n      <th>Sector</th>\n      <th>Year</th>\n      <th>Month</th>\n      <th>Cereals and products</th>\n      <th>Meat and fish</th>\n      <th>Egg</th>\n      <th>Milk and products</th>\n      <th>Oils and fats</th>\n      <th>Fruits</th>\n      <th>Vegetables</th>\n      <th>...</th>\n      <th>Housing</th>\n      <th>Fuel and light</th>\n      <th>Household goods and services</th>\n      <th>Health</th>\n      <th>Transport and communication</th>\n      <th>Recreation and amusement</th>\n      <th>Education</th>\n      <th>Personal care and effects</th>\n      <th>Miscellaneous</th>\n      <th>General index</th>\n    </tr>\n  </thead>\n  <tbody>\n    <tr>\n      <th>0</th>\n      <td>Rural</td>\n      <td>2013</td>\n      <td>January</td>\n      <td>107.5</td>\n      <td>106.3</td>\n      <td>108.1</td>\n      <td>104.9</td>\n      <td>106.1</td>\n      <td>103.9</td>\n      <td>101.9</td>\n      <td>...</td>\n      <td>NaN</td>\n      <td>105.5</td>\n      <td>104.8</td>\n      <td>104.0</td>\n      <td>103.3</td>\n      <td>103.4</td>\n      <td>103.8</td>\n      <td>104.7</td>\n      <td>104.0</td>\n      <td>105.1</td>\n    </tr>\n    <tr>\n      <th>1</th>\n      <td>Urban</td>\n      <td>2013</td>\n      <td>January</td>\n      <td>110.5</td>\n      <td>109.1</td>\n      <td>113.0</td>\n      <td>103.6</td>\n      <td>103.4</td>\n      <td>102.3</td>\n      <td>102.9</td>\n      <td>...</td>\n      <td>100.3</td>\n      <td>105.4</td>\n      <td>104.8</td>\n      <td>104.1</td>\n      <td>103.2</td>\n      <td>102.9</td>\n      <td>103.5</td>\n      <td>104.3</td>\n      <td>103.7</td>\n      <td>104.0</td>\n    </tr>\n    <tr>\n      <th>2</th>\n      <td>Rural+Urban</td>\n      <td>2013</td>\n      <td>January</td>\n      <td>108.4</td>\n      <td>107.3</td>\n      <td>110.0</td>\n      <td>104.4</td>\n      <td>105.1</td>\n      <td>103.2</td>\n      <td>102.2</td>\n      <td>...</td>\n      <td>100.3</td>\n      <td>105.5</td>\n      <td>104.8</td>\n      <td>104.0</td>\n      <td>103.2</td>\n      <td>103.1</td>\n      <td>103.6</td>\n      <td>104.5</td>\n      <td>103.9</td>\n      <td>104.6</td>\n    </tr>\n    <tr>\n      <th>3</th>\n      <td>Rural</td>\n      <td>2013</td>\n      <td>February</td>\n      <td>109.2</td>\n      <td>108.7</td>\n      <td>110.2</td>\n      <td>105.4</td>\n      <td>106.7</td>\n      <td>104.0</td>\n      <td>102.4</td>\n      <td>...</td>\n      <td>NaN</td>\n      <td>106.2</td>\n      <td>105.2</td>\n      <td>104.4</td>\n      <td>103.9</td>\n      <td>104.0</td>\n      <td>104.1</td>\n      <td>104.6</td>\n      <td>104.4</td>\n      <td>105.8</td>\n    </tr>\n    <tr>\n      <th>4</th>\n      <td>Urban</td>\n      <td>2013</td>\n      <td>February</td>\n      <td>112.9</td>\n      <td>112.9</td>\n      <td>116.9</td>\n      <td>104.0</td>\n      <td>103.5</td>\n      <td>103.1</td>\n      <td>104.9</td>\n      <td>...</td>\n      <td>100.4</td>\n      <td>105.7</td>\n      <td>105.2</td>\n      <td>104.7</td>\n      <td>104.4</td>\n      <td>103.3</td>\n      <td>103.7</td>\n      <td>104.3</td>\n      <td>104.3</td>\n      <td>104.7</td>\n    </tr>\n  </tbody>\n</table>\n<p>5 rows × 30 columns</p>\n</div>"
     },
     "execution_count": 3,
     "metadata": {},
     "output_type": "execute_result"
    }
   ],
   "source": [
    "df.head()"
   ],
   "metadata": {
    "collapsed": false,
    "ExecuteTime": {
     "end_time": "2023-08-31T19:01:57.157896Z",
     "start_time": "2023-08-31T19:01:57.137361Z"
    }
   }
  },
  {
   "cell_type": "code",
   "execution_count": 4,
   "outputs": [
    {
     "data": {
      "text/plain": "              Year  Cereals and products  Meat and fish         Egg  \\\ncount   365.000000            362.000000     359.000000  362.000000   \nmean   2017.608219            135.964641     155.181337  140.188674   \nstd       2.965449             14.205793      32.748072   22.302255   \nmin    2013.000000            107.500000     106.300000  102.700000   \n25%    2015.000000            124.025000     129.800000  122.000000   \n50%    2018.000000            135.450000     143.900000  134.750000   \n75%    2020.000000            145.900000     189.750000  156.475000   \nmax    2023.000000            174.700000     223.400000  197.000000   \n\n       Milk and products  Oils and fats      Fruits  Vegetables  \\\ncount          362.00000     362.000000  362.000000  362.000000   \nmean           139.58232     131.341436  140.206077  155.654420   \nstd             17.72663      29.694624   16.913214   28.092482   \nmin            103.60000     101.100000  102.300000  101.400000   \n25%            128.22500     110.400000  130.175000  134.700000   \n50%            140.80000     119.900000  140.200000  153.350000   \n75%            153.67500     138.200000  151.750000  171.200000   \nmax            177.90000     209.900000  179.500000  245.300000   \n\n       Pulses and products  Sugar and Confectionery  ...  \\\ncount           362.000000               362.000000  ...   \nmean            140.797238               110.711878  ...   \nstd              23.727066                 8.970045  ...   \nmin             103.500000                85.300000  ...   \n25%             119.825000               103.350000  ...   \n50%             138.300000               113.200000  ...   \n75%             164.100000               118.100000  ...   \nmax             191.600000               123.900000  ...   \n\n       Clothing and footwear  Fuel and light  Household goods and services  \\\ncount             359.000000      362.000000                    359.000000   \nmean              140.826184      135.625138                    135.946518   \nstd                20.282839       21.526522                     18.754522   \nmin               105.800000      105.400000                    104.800000   \n25%               124.800000      116.250000                    120.800000   \n50%               140.800000      131.100000                    134.700000   \n75%               152.200000      147.875000                    150.100000   \nmax               189.600000      183.200000                    178.600000   \n\n           Health  Transport and communication  Recreation and amusement  \\\ncount  362.000000                   359.000000                359.000000   \nmean   137.621271                   126.438162                133.167688   \nstd     23.026004                    18.604797                 19.636254   \nmin    104.000000                   103.200000                102.900000   \n25%    118.275000                   111.650000                117.050000   \n50%    133.050000                   119.400000                129.400000   \n75%    156.075000                   139.050000                148.650000   \nmax    186.600000                   169.000000                172.800000   \n\n        Education  Personal care and effects  Miscellaneous  General index  \ncount  359.000000                 359.000000     359.000000     359.000000  \nmean   140.436769                 132.359889     133.438997     138.807799  \nstd     20.811885                  22.243857      20.198469      19.831978  \nmin    103.500000                 102.100000     103.700000     104.000000  \n25%    123.350000                 112.350000     116.400000     123.100000  \n50%    139.000000                 126.800000     128.900000     136.400000  \n75%    159.150000                 154.750000     149.150000     154.950000  \nmax    178.500000                 181.500000     177.900000     178.000000  \n\n[8 rows x 27 columns]",
      "text/html": "<div>\n<style scoped>\n    .dataframe tbody tr th:only-of-type {\n        vertical-align: middle;\n    }\n\n    .dataframe tbody tr th {\n        vertical-align: top;\n    }\n\n    .dataframe thead th {\n        text-align: right;\n    }\n</style>\n<table border=\"1\" class=\"dataframe\">\n  <thead>\n    <tr style=\"text-align: right;\">\n      <th></th>\n      <th>Year</th>\n      <th>Cereals and products</th>\n      <th>Meat and fish</th>\n      <th>Egg</th>\n      <th>Milk and products</th>\n      <th>Oils and fats</th>\n      <th>Fruits</th>\n      <th>Vegetables</th>\n      <th>Pulses and products</th>\n      <th>Sugar and Confectionery</th>\n      <th>...</th>\n      <th>Clothing and footwear</th>\n      <th>Fuel and light</th>\n      <th>Household goods and services</th>\n      <th>Health</th>\n      <th>Transport and communication</th>\n      <th>Recreation and amusement</th>\n      <th>Education</th>\n      <th>Personal care and effects</th>\n      <th>Miscellaneous</th>\n      <th>General index</th>\n    </tr>\n  </thead>\n  <tbody>\n    <tr>\n      <th>count</th>\n      <td>365.000000</td>\n      <td>362.000000</td>\n      <td>359.000000</td>\n      <td>362.000000</td>\n      <td>362.00000</td>\n      <td>362.000000</td>\n      <td>362.000000</td>\n      <td>362.000000</td>\n      <td>362.000000</td>\n      <td>362.000000</td>\n      <td>...</td>\n      <td>359.000000</td>\n      <td>362.000000</td>\n      <td>359.000000</td>\n      <td>362.000000</td>\n      <td>359.000000</td>\n      <td>359.000000</td>\n      <td>359.000000</td>\n      <td>359.000000</td>\n      <td>359.000000</td>\n      <td>359.000000</td>\n    </tr>\n    <tr>\n      <th>mean</th>\n      <td>2017.608219</td>\n      <td>135.964641</td>\n      <td>155.181337</td>\n      <td>140.188674</td>\n      <td>139.58232</td>\n      <td>131.341436</td>\n      <td>140.206077</td>\n      <td>155.654420</td>\n      <td>140.797238</td>\n      <td>110.711878</td>\n      <td>...</td>\n      <td>140.826184</td>\n      <td>135.625138</td>\n      <td>135.946518</td>\n      <td>137.621271</td>\n      <td>126.438162</td>\n      <td>133.167688</td>\n      <td>140.436769</td>\n      <td>132.359889</td>\n      <td>133.438997</td>\n      <td>138.807799</td>\n    </tr>\n    <tr>\n      <th>std</th>\n      <td>2.965449</td>\n      <td>14.205793</td>\n      <td>32.748072</td>\n      <td>22.302255</td>\n      <td>17.72663</td>\n      <td>29.694624</td>\n      <td>16.913214</td>\n      <td>28.092482</td>\n      <td>23.727066</td>\n      <td>8.970045</td>\n      <td>...</td>\n      <td>20.282839</td>\n      <td>21.526522</td>\n      <td>18.754522</td>\n      <td>23.026004</td>\n      <td>18.604797</td>\n      <td>19.636254</td>\n      <td>20.811885</td>\n      <td>22.243857</td>\n      <td>20.198469</td>\n      <td>19.831978</td>\n    </tr>\n    <tr>\n      <th>min</th>\n      <td>2013.000000</td>\n      <td>107.500000</td>\n      <td>106.300000</td>\n      <td>102.700000</td>\n      <td>103.60000</td>\n      <td>101.100000</td>\n      <td>102.300000</td>\n      <td>101.400000</td>\n      <td>103.500000</td>\n      <td>85.300000</td>\n      <td>...</td>\n      <td>105.800000</td>\n      <td>105.400000</td>\n      <td>104.800000</td>\n      <td>104.000000</td>\n      <td>103.200000</td>\n      <td>102.900000</td>\n      <td>103.500000</td>\n      <td>102.100000</td>\n      <td>103.700000</td>\n      <td>104.000000</td>\n    </tr>\n    <tr>\n      <th>25%</th>\n      <td>2015.000000</td>\n      <td>124.025000</td>\n      <td>129.800000</td>\n      <td>122.000000</td>\n      <td>128.22500</td>\n      <td>110.400000</td>\n      <td>130.175000</td>\n      <td>134.700000</td>\n      <td>119.825000</td>\n      <td>103.350000</td>\n      <td>...</td>\n      <td>124.800000</td>\n      <td>116.250000</td>\n      <td>120.800000</td>\n      <td>118.275000</td>\n      <td>111.650000</td>\n      <td>117.050000</td>\n      <td>123.350000</td>\n      <td>112.350000</td>\n      <td>116.400000</td>\n      <td>123.100000</td>\n    </tr>\n    <tr>\n      <th>50%</th>\n      <td>2018.000000</td>\n      <td>135.450000</td>\n      <td>143.900000</td>\n      <td>134.750000</td>\n      <td>140.80000</td>\n      <td>119.900000</td>\n      <td>140.200000</td>\n      <td>153.350000</td>\n      <td>138.300000</td>\n      <td>113.200000</td>\n      <td>...</td>\n      <td>140.800000</td>\n      <td>131.100000</td>\n      <td>134.700000</td>\n      <td>133.050000</td>\n      <td>119.400000</td>\n      <td>129.400000</td>\n      <td>139.000000</td>\n      <td>126.800000</td>\n      <td>128.900000</td>\n      <td>136.400000</td>\n    </tr>\n    <tr>\n      <th>75%</th>\n      <td>2020.000000</td>\n      <td>145.900000</td>\n      <td>189.750000</td>\n      <td>156.475000</td>\n      <td>153.67500</td>\n      <td>138.200000</td>\n      <td>151.750000</td>\n      <td>171.200000</td>\n      <td>164.100000</td>\n      <td>118.100000</td>\n      <td>...</td>\n      <td>152.200000</td>\n      <td>147.875000</td>\n      <td>150.100000</td>\n      <td>156.075000</td>\n      <td>139.050000</td>\n      <td>148.650000</td>\n      <td>159.150000</td>\n      <td>154.750000</td>\n      <td>149.150000</td>\n      <td>154.950000</td>\n    </tr>\n    <tr>\n      <th>max</th>\n      <td>2023.000000</td>\n      <td>174.700000</td>\n      <td>223.400000</td>\n      <td>197.000000</td>\n      <td>177.90000</td>\n      <td>209.900000</td>\n      <td>179.500000</td>\n      <td>245.300000</td>\n      <td>191.600000</td>\n      <td>123.900000</td>\n      <td>...</td>\n      <td>189.600000</td>\n      <td>183.200000</td>\n      <td>178.600000</td>\n      <td>186.600000</td>\n      <td>169.000000</td>\n      <td>172.800000</td>\n      <td>178.500000</td>\n      <td>181.500000</td>\n      <td>177.900000</td>\n      <td>178.000000</td>\n    </tr>\n  </tbody>\n</table>\n<p>8 rows × 27 columns</p>\n</div>"
     },
     "execution_count": 4,
     "metadata": {},
     "output_type": "execute_result"
    }
   ],
   "source": [
    "df.describe()"
   ],
   "metadata": {
    "collapsed": false,
    "ExecuteTime": {
     "end_time": "2023-08-31T19:03:01.807666Z",
     "start_time": "2023-08-31T19:03:01.763524Z"
    }
   }
  },
  {
   "cell_type": "code",
   "execution_count": null,
   "outputs": [],
   "source": [],
   "metadata": {
    "collapsed": false
   }
  }
 ],
 "metadata": {
  "kernelspec": {
   "display_name": "Python 3",
   "language": "python",
   "name": "python3"
  },
  "language_info": {
   "codemirror_mode": {
    "name": "ipython",
    "version": 2
   },
   "file_extension": ".py",
   "mimetype": "text/x-python",
   "name": "python",
   "nbconvert_exporter": "python",
   "pygments_lexer": "ipython2",
   "version": "2.7.6"
  }
 },
 "nbformat": 4,
 "nbformat_minor": 0
}
